{
 "cells": [
  {
   "cell_type": "markdown",
   "metadata": {},
   "source": [
    "# IMPORTING NEEDED LIB"
   ]
  },
  {
   "cell_type": "code",
   "execution_count": 1,
   "metadata": {},
   "outputs": [],
   "source": [
    "import os\n",
    "import numpy as np\n",
    "import matplotlib.pyplot as plt\n",
    "import cv2\n",
    "import pickle"
   ]
  },
  {
   "cell_type": "code",
   "execution_count": 2,
   "metadata": {},
   "outputs": [],
   "source": [
    "data_dir = 'E:\\EVILDOLL\\PYTHON PROJECTS\\TENSER FLOW\\lol\\image_data'"
   ]
  },
  {
   "cell_type": "code",
   "execution_count": 3,
   "metadata": {},
   "outputs": [],
   "source": [
    "categories = ['manipuri','bharatanatyam','odissi','kathakali','kathak','sattriya','kuchipudi','mohiniyattam']"
   ]
  },
  {
   "cell_type": "code",
   "execution_count": 4,
   "metadata": {},
   "outputs": [],
   "source": [
    "data = []"
   ]
  },
  {
   "cell_type": "markdown",
   "metadata": {},
   "source": [
    "## APPEDNDING TRAIN DATASETS TO THE CLASS"
   ]
  },
  {
   "cell_type": "code",
   "execution_count": null,
   "metadata": {},
   "outputs": [],
   "source": [
    "for i in class_name:\n",
    "    path = parent + i\n",
    "    os.mkdir(path,mode)"
   ]
  },
  {
   "cell_type": "code",
   "execution_count": null,
   "metadata": {},
   "outputs": [],
   "source": [
    "train = pd.read_csv(\"train.csv\")\n",
    "test = pd.read_csv(\"test.csv\")\n",
    "train_label = train[\"target\"]\n",
    "train_image = train[\"Image\"]"
   ]
  },
  {
   "cell_type": "code",
   "execution_count": null,
   "metadata": {},
   "outputs": [],
   "source": [
    "ma = []\n",
    "bh = []\n",
    "od = []\n",
    "kl = []\n",
    "kt = []\n",
    "sa = []\n",
    "ku = []\n",
    "mo = []\n",
    "for i in range(len(train_image)):\n",
    "    if train_label[i] == 'manipuri':\n",
    "        ma.append(train_image[i])\n",
    "    elif train_label[i] == 'bharatanatyam':\n",
    "        bh.append(train_image[i])\n",
    "    elif train_label[i] == 'odissi':\n",
    "        od.append(train_image[i])\n",
    "    elif train_label[i] == 'kathakali':\n",
    "        kl.append(train_image[i])\n",
    "    elif train_label[i] == 'kathak':\n",
    "        kt.append(train_image[i])\n",
    "    elif train_label[i] == 'sattriya':\n",
    "        sa.append(train_image[i])\n",
    "    elif train_label[i] == 'kuchipudi':\n",
    "        ku.append(train_image[i])\n",
    "    elif train_label[i] == 'mohiniyattam':\n",
    "        mo.append(train_image[i])"
   ]
  },
  {
   "cell_type": "code",
   "execution_count": null,
   "metadata": {},
   "outputs": [],
   "source": [
    "import shutil\n",
    "for img in os.listdir(parent):\n",
    "    if img in ma:\n",
    "        shutil.move(parent+img,parent+'manipuri')\n",
    "    elif img in bh:\n",
    "        shutil.move(parent+img,parent+'bharatanatyam')\n",
    "    elif img in od:\n",
    "        shutil.move(parent+img,parent+'odissi')\n",
    "    elif img in kl:\n",
    "        shutil.move(parent+img,parent+'kathakali')\n",
    "    elif img in kt:\n",
    "        shutil.move(parent+img,parent+'kathak')\n",
    "    elif img in sa:\n",
    "        shutil.move(parent+img,parent+'sattriya')\n",
    "    elif img in ku:\n",
    "        shutil.move(parent+img,parent+'kuchipudi')\n",
    "    elif img in mo:\n",
    "        shutil.move(parent+img,parent+'mohiniyattam')"
   ]
  },
  {
   "cell_type": "markdown",
   "metadata": {},
   "source": [
    "## Changing the images to np array"
   ]
  },
  {
   "cell_type": "code",
   "execution_count": 5,
   "metadata": {},
   "outputs": [],
   "source": [
    "img_size = 100\n",
    "def make_data():\n",
    "    for category in categories:\n",
    "        path = os.path.join(data_dir, category)\n",
    "        label = categories.index(category)\n",
    "        for img_name in os.listdir(path):\n",
    "            image_path = os.path.join(path, img_name)\n",
    "            image = cv2.imread(image_path)\n",
    "            try:\n",
    "                image = cv2.cvtColor(image, cv2.COLOR_BGR2RGB)\n",
    "                image = cv2.resize(image,(img_size,img_size))\n",
    "                image = np.array(image, dtype=np.float32)\n",
    "                data.append([image,label])\n",
    "            except Exception as e:\n",
    "                pass  \n",
    "            \n",
    "make_data() "
   ]
  },
  {
   "cell_type": "markdown",
   "metadata": {},
   "source": [
    "## Rotating the image and adding to the dataset"
   ]
  },
  {
   "cell_type": "code",
   "execution_count": 6,
   "metadata": {},
   "outputs": [],
   "source": [
    "from scipy import ndarray\n",
    "import skimage as sk\n",
    "from skimage import transform\n",
    "import random\n",
    "\n",
    "def random_rotation(image_array: ndarray):\n",
    "    random_degree = random.uniform(-35, 35)\n",
    "    return sk.transform.rotate(image_array, random_degree)"
   ]
  },
  {
   "cell_type": "code",
   "execution_count": 7,
   "metadata": {},
   "outputs": [],
   "source": [
    "rot = []\n",
    "for i in range(len(data)):\n",
    "    aaa = random_rotation(data[i][0])\n",
    "    bbb = data[i][1]\n",
    "    rot.append([aaa,bbb])"
   ]
  },
  {
   "cell_type": "code",
   "execution_count": 8,
   "metadata": {},
   "outputs": [],
   "source": [
    "data = data + rot"
   ]
  },
  {
   "cell_type": "code",
   "execution_count": 9,
   "metadata": {},
   "outputs": [],
   "source": [
    "roti = []\n",
    "for i in range(len(data)):\n",
    "    aaa = random_rotation(data[i][0])\n",
    "    bbb = data[i][1]\n",
    "    roti.append([aaa,bbb])"
   ]
  },
  {
   "cell_type": "code",
   "execution_count": 10,
   "metadata": {},
   "outputs": [],
   "source": [
    "data = data + roti"
   ]
  },
  {
   "cell_type": "code",
   "execution_count": 11,
   "metadata": {},
   "outputs": [],
   "source": [
    "rotia = []\n",
    "for i in range(len(data)):\n",
    "    aaa = random_rotation(data[i][0])\n",
    "    bbb = data[i][1]\n",
    "    rotia.append([aaa,bbb])"
   ]
  },
  {
   "cell_type": "code",
   "execution_count": 12,
   "metadata": {},
   "outputs": [],
   "source": [
    "data = data + rotia"
   ]
  },
  {
   "cell_type": "code",
   "execution_count": 13,
   "metadata": {},
   "outputs": [],
   "source": [
    "rotiat = []\n",
    "for i in range(len(data)):\n",
    "    aaa = random_rotation(data[i][0])\n",
    "    bbb = data[i][1]\n",
    "    rotiat.append([aaa,bbb])"
   ]
  },
  {
   "cell_type": "code",
   "execution_count": 14,
   "metadata": {},
   "outputs": [],
   "source": [
    "data = data + rotiat"
   ]
  },
  {
   "cell_type": "code",
   "execution_count": 15,
   "metadata": {},
   "outputs": [
    {
     "data": {
      "text/plain": [
       "5824"
      ]
     },
     "execution_count": 15,
     "metadata": {},
     "output_type": "execute_result"
    }
   ],
   "source": [
    "len(data)"
   ]
  },
  {
   "cell_type": "markdown",
   "metadata": {},
   "source": [
    "## Saving your np array images "
   ]
  },
  {
   "cell_type": "code",
   "execution_count": 17,
   "metadata": {},
   "outputs": [],
   "source": [
    "pik = open('data.pickle', 'wb')\n",
    "pickle.dump(data, pik)\n",
    "pik.close()"
   ]
  },
  {
   "cell_type": "markdown",
   "metadata": {},
   "source": [
    "## Opening the saved np array images"
   ]
  },
  {
   "cell_type": "code",
   "execution_count": 18,
   "metadata": {},
   "outputs": [],
   "source": [
    "def load_data():\n",
    "    pick = open('data.pickle','rb')\n",
    "    data = pickle.load(pick)\n",
    "    pick.close()  \n",
    "    np.random.shuffle(data)\n",
    "    features = []\n",
    "    labels = []\n",
    "    for img,label in data:\n",
    "        features.append(img)\n",
    "        labels.append(label)\n",
    "        \n",
    "    features = np.array(features, dtype = np.float32)\n",
    "    labels = np.array(labels)\n",
    "    features = features/255.0\n",
    "    return [features, labels]\n"
   ]
  },
  {
   "cell_type": "markdown",
   "metadata": {},
   "source": [
    "# CODE FOR TRAINGING THE MODEL"
   ]
  },
  {
   "cell_type": "code",
   "execution_count": 19,
   "metadata": {},
   "outputs": [],
   "source": [
    "import tensorflow as tf\n",
    "import numpy as np\n",
    "import matplotlib.pyplot as plt"
   ]
  },
  {
   "cell_type": "code",
   "execution_count": 20,
   "metadata": {},
   "outputs": [],
   "source": [
    "from sklearn.model_selection import train_test_split"
   ]
  },
  {
   "cell_type": "code",
   "execution_count": 21,
   "metadata": {},
   "outputs": [],
   "source": [
    "features, labels = load_data()"
   ]
  },
  {
   "cell_type": "code",
   "execution_count": null,
   "metadata": {},
   "outputs": [],
   "source": []
  },
  {
   "cell_type": "markdown",
   "metadata": {},
   "source": [
    "## Train Test Split"
   ]
  },
  {
   "cell_type": "code",
   "execution_count": 22,
   "metadata": {},
   "outputs": [],
   "source": [
    "X_train, X_test, y_train, y_test = train_test_split(features, labels, test_size=0.1, random_state=20)"
   ]
  },
  {
   "cell_type": "markdown",
   "metadata": {},
   "source": [
    "### ADDING LAYERS TO THE INPUT IMAGES"
   ]
  },
  {
   "cell_type": "code",
   "execution_count": 31,
   "metadata": {},
   "outputs": [],
   "source": [
    "input_layer = tf.keras.layers.Input([100,100,3])"
   ]
  },
  {
   "cell_type": "code",
   "execution_count": 32,
   "metadata": {},
   "outputs": [],
   "source": [
    "conv1 = tf.keras.layers.Conv2D(filters = 64, kernel_size = (5,5), padding = 'Same', activation = 'relu')(input_layer)"
   ]
  },
  {
   "cell_type": "code",
   "execution_count": 33,
   "metadata": {},
   "outputs": [],
   "source": [
    "pool1 = tf.keras.layers.MaxPooling2D(pool_size = (2,2))(conv1)"
   ]
  },
  {
   "cell_type": "code",
   "execution_count": 34,
   "metadata": {},
   "outputs": [],
   "source": [
    "conv2 = tf.keras.layers.Conv2D(filters = 64, kernel_size = (3,3), padding = 'Same', activation = 'relu')(pool1)"
   ]
  },
  {
   "cell_type": "code",
   "execution_count": 35,
   "metadata": {},
   "outputs": [],
   "source": [
    "pool2 = tf.keras.layers.MaxPooling2D(pool_size = (2,2), strides = (2,2))(conv2)"
   ]
  },
  {
   "cell_type": "code",
   "execution_count": 36,
   "metadata": {},
   "outputs": [],
   "source": [
    "conv3 = tf.keras.layers.Conv2D(filters = 96, kernel_size = (3,3), padding = 'Same', activation = 'relu')(pool2)"
   ]
  },
  {
   "cell_type": "code",
   "execution_count": 37,
   "metadata": {},
   "outputs": [],
   "source": [
    "pool3 = tf.keras.layers.MaxPooling2D(pool_size = (2,2), strides = (2,2))(conv3)"
   ]
  },
  {
   "cell_type": "code",
   "execution_count": 38,
   "metadata": {},
   "outputs": [],
   "source": [
    "conv4 = tf.keras.layers.Conv2D(filters = 96, kernel_size = (3,3), padding = 'Same', activation = 'relu')(pool3)"
   ]
  },
  {
   "cell_type": "code",
   "execution_count": 39,
   "metadata": {},
   "outputs": [],
   "source": [
    "pool4 = tf.keras.layers.MaxPooling2D(pool_size = (2,2), strides = (2,2))(conv4)"
   ]
  },
  {
   "cell_type": "code",
   "execution_count": 40,
   "metadata": {},
   "outputs": [],
   "source": [
    "flt1 = tf.keras.layers.Flatten()(pool4)"
   ]
  },
  {
   "cell_type": "code",
   "execution_count": 41,
   "metadata": {},
   "outputs": [],
   "source": [
    "dn1 = tf.keras.layers.Dense(256,activation = 'relu')(flt1)"
   ]
  },
  {
   "cell_type": "code",
   "execution_count": 42,
   "metadata": {},
   "outputs": [],
   "source": [
    "dn2 = tf.keras.layers.Dense(124,activation = 'relu')(dn1)"
   ]
  },
  {
   "cell_type": "code",
   "execution_count": 43,
   "metadata": {},
   "outputs": [],
   "source": [
    "out = tf.keras.layers.Dense(8,activation = 'softmax')(dn1)"
   ]
  },
  {
   "cell_type": "markdown",
   "metadata": {},
   "source": [
    "### CREATING AND TRAINGING THE MODEL"
   ]
  },
  {
   "cell_type": "code",
   "execution_count": 44,
   "metadata": {},
   "outputs": [],
   "source": [
    "model = tf.keras.Model(input_layer, out)"
   ]
  },
  {
   "cell_type": "code",
   "execution_count": 45,
   "metadata": {},
   "outputs": [],
   "source": [
    "model.compile(optimizer = 'adam', loss = 'sparse_categorical_crossentropy', metrics = ['accuracy'])"
   ]
  },
  {
   "cell_type": "code",
   "execution_count": 46,
   "metadata": {},
   "outputs": [
    {
     "name": "stdout",
     "output_type": "stream",
     "text": [
      "Train on 5241 samples\n",
      "Epoch 1/3\n",
      "5241/5241 [==============================] - 145s 28ms/sample - loss: 1.9387 - accuracy: 0.2429\n",
      "Epoch 2/3\n",
      "5241/5241 [==============================] - 139s 27ms/sample - loss: 1.2973 - accuracy: 0.5358\n",
      "Epoch 3/3\n",
      "5241/5241 [==============================] - 137s 26ms/sample - loss: 0.6262 - accuracy: 0.7976\n"
     ]
    },
    {
     "data": {
      "text/plain": [
       "<tensorflow.python.keras.callbacks.History at 0x22ad8fe1a48>"
      ]
     },
     "execution_count": 46,
     "metadata": {},
     "output_type": "execute_result"
    }
   ],
   "source": [
    "model.fit(X_train, y_train, batch_size = 100, epochs = 3)"
   ]
  },
  {
   "cell_type": "markdown",
   "metadata": {},
   "source": [
    "### SAVING AND TESTING YOUR MODEL "
   ]
  },
  {
   "cell_type": "markdown",
   "metadata": {},
   "source": []
  },
  {
   "cell_type": "code",
   "execution_count": 88,
   "metadata": {},
   "outputs": [],
   "source": [
    "model.save('mymodel.h5')"
   ]
  },
  {
   "cell_type": "code",
   "execution_count": 70,
   "metadata": {},
   "outputs": [
    {
     "name": "stdout",
     "output_type": "stream",
     "text": [
      "583/583 [==============================] - 6s 10ms/sample - loss: 0.1377 - accuracy: 0.9777\n"
     ]
    },
    {
     "data": {
      "text/plain": [
       "[0.13768040126918035, 0.97770154]"
      ]
     },
     "execution_count": 70,
     "metadata": {},
     "output_type": "execute_result"
    }
   ],
   "source": [
    "model.evaluate(X_test, y_test, verbose = 1)"
   ]
  },
  {
   "cell_type": "code",
   "execution_count": null,
   "metadata": {},
   "outputs": [],
   "source": []
  },
  {
   "cell_type": "markdown",
   "metadata": {},
   "source": [
    "### PREDICTION - TESTS HOW MODEL IS TRAINED "
   ]
  },
  {
   "cell_type": "code",
   "execution_count": 71,
   "metadata": {},
   "outputs": [
    {
     "name": "stdout",
     "output_type": "stream",
     "text": [
      "426 / 437\n"
     ]
    }
   ],
   "source": [
    "prediction = model.predict(X_test)\n",
    "count = 0\n",
    "for i in range(437):\n",
    "    if categories[y_test[i]] == categories[np.argmax(prediction[i]) ]:\n",
    "        count+=1\n",
    "print(count,'/',437)\n",
    "   "
   ]
  },
  {
   "cell_type": "code",
   "execution_count": 484,
   "metadata": {},
   "outputs": [
    {
     "name": "stdout",
     "output_type": "stream",
     "text": [
      "Actual:odissi\n",
      "Predictions:odissi\n",
      "Actual:mohiniyattam\n",
      "Predictions:mohiniyattam\n",
      "Actual:bharatanatyam\n",
      "Predictions:bharatanatyam\n",
      "Actual:sattriya\n",
      "Predictions:sattriya\n",
      "Actual:odissi\n",
      "Predictions:odissi\n",
      "Actual:sattriya\n",
      "Predictions:sattriya\n",
      "Actual:kathak\n",
      "Predictions:kathak\n",
      "Actual:mohiniyattam\n",
      "Predictions:mohiniyattam\n",
      "Actual:bharatanatyam\n",
      "Predictions:bharatanatyam\n",
      "Actual:bharatanatyam\n",
      "Predictions:bharatanatyam\n",
      "Actual:odissi\n",
      "Predictions:odissi\n",
      "Actual:odissi\n",
      "Predictions:odissi\n",
      "Actual:odissi\n",
      "Predictions:odissi\n",
      "Actual:bharatanatyam\n",
      "Predictions:mohiniyattam\n",
      "Actual:kathakali\n",
      "Predictions:kathakali\n",
      "Actual:kuchipudi\n",
      "Predictions:kuchipudi\n",
      "Actual:kuchipudi\n",
      "Predictions:kuchipudi\n",
      "Actual:manipuri\n",
      "Predictions:manipuri\n",
      "Actual:bharatanatyam\n",
      "Predictions:bharatanatyam\n",
      "Actual:odissi\n",
      "Predictions:odissi\n",
      "Actual:kathakali\n",
      "Predictions:kathakali\n",
      "Actual:kathak\n",
      "Predictions:kathak\n",
      "Actual:kuchipudi\n",
      "Predictions:kuchipudi\n",
      "Actual:sattriya\n",
      "Predictions:sattriya\n",
      "Actual:bharatanatyam\n",
      "Predictions:bharatanatyam\n",
      "Actual:sattriya\n",
      "Predictions:sattriya\n",
      "Actual:odissi\n",
      "Predictions:odissi\n",
      "Actual:bharatanatyam\n",
      "Predictions:bharatanatyam\n",
      "Actual:sattriya\n",
      "Predictions:sattriya\n",
      "Actual:kuchipudi\n",
      "Predictions:kuchipudi\n",
      "Actual:mohiniyattam\n",
      "Predictions:mohiniyattam\n",
      "Actual:manipuri\n",
      "Predictions:manipuri\n",
      "Actual:odissi\n",
      "Predictions:kathak\n",
      "Actual:kuchipudi\n",
      "Predictions:kuchipudi\n",
      "Actual:kathakali\n",
      "Predictions:kathakali\n",
      "Actual:mohiniyattam\n",
      "Predictions:mohiniyattam\n",
      "Actual:odissi\n",
      "Predictions:odissi\n",
      "Actual:kathak\n",
      "Predictions:kathak\n",
      "Actual:bharatanatyam\n",
      "Predictions:bharatanatyam\n",
      "Actual:kathakali\n",
      "Predictions:kathakali\n",
      "Actual:kathak\n",
      "Predictions:kathak\n",
      "Actual:kuchipudi\n",
      "Predictions:kuchipudi\n",
      "Actual:manipuri\n",
      "Predictions:manipuri\n",
      "Actual:kuchipudi\n",
      "Predictions:kuchipudi\n",
      "Actual:kuchipudi\n",
      "Predictions:kuchipudi\n",
      "Actual:kuchipudi\n",
      "Predictions:kuchipudi\n",
      "Actual:kuchipudi\n",
      "Predictions:kuchipudi\n",
      "Actual:odissi\n",
      "Predictions:odissi\n",
      "Actual:mohiniyattam\n",
      "Predictions:mohiniyattam\n",
      "Actual:kathakali\n",
      "Predictions:kathakali\n",
      "Actual:kuchipudi\n",
      "Predictions:kuchipudi\n",
      "Actual:mohiniyattam\n",
      "Predictions:mohiniyattam\n",
      "Actual:sattriya\n",
      "Predictions:sattriya\n",
      "Actual:sattriya\n",
      "Predictions:sattriya\n",
      "Actual:bharatanatyam\n",
      "Predictions:bharatanatyam\n",
      "Actual:kathakali\n",
      "Predictions:kathakali\n",
      "Actual:kuchipudi\n",
      "Predictions:kuchipudi\n",
      "Actual:manipuri\n",
      "Predictions:manipuri\n",
      "Actual:odissi\n",
      "Predictions:odissi\n",
      "Actual:kathakali\n",
      "Predictions:kathakali\n",
      "Actual:sattriya\n",
      "Predictions:sattriya\n",
      "Actual:sattriya\n",
      "Predictions:sattriya\n",
      "Actual:kathakali\n",
      "Predictions:kathakali\n",
      "Actual:kathak\n",
      "Predictions:kathak\n",
      "Actual:mohiniyattam\n",
      "Predictions:mohiniyattam\n",
      "Actual:sattriya\n",
      "Predictions:sattriya\n",
      "Actual:manipuri\n",
      "Predictions:manipuri\n",
      "Actual:odissi\n",
      "Predictions:odissi\n",
      "Actual:odissi\n",
      "Predictions:odissi\n",
      "Actual:mohiniyattam\n",
      "Predictions:mohiniyattam\n",
      "Actual:manipuri\n",
      "Predictions:kuchipudi\n",
      "Actual:bharatanatyam\n",
      "Predictions:bharatanatyam\n",
      "Actual:sattriya\n",
      "Predictions:kathakali\n",
      "Actual:odissi\n",
      "Predictions:odissi\n",
      "Actual:odissi\n",
      "Predictions:odissi\n",
      "Actual:mohiniyattam\n",
      "Predictions:mohiniyattam\n",
      "Actual:odissi\n",
      "Predictions:odissi\n",
      "Actual:manipuri\n",
      "Predictions:manipuri\n",
      "Actual:bharatanatyam\n",
      "Predictions:bharatanatyam\n",
      "Actual:kathak\n",
      "Predictions:kathak\n",
      "Actual:mohiniyattam\n",
      "Predictions:mohiniyattam\n",
      "Actual:manipuri\n",
      "Predictions:manipuri\n",
      "Actual:sattriya\n",
      "Predictions:sattriya\n",
      "Actual:bharatanatyam\n",
      "Predictions:bharatanatyam\n",
      "Actual:mohiniyattam\n",
      "Predictions:mohiniyattam\n",
      "Actual:manipuri\n",
      "Predictions:manipuri\n",
      "Actual:odissi\n",
      "Predictions:odissi\n",
      "Actual:odissi\n",
      "Predictions:odissi\n",
      "Actual:odissi\n",
      "Predictions:odissi\n",
      "Actual:odissi\n",
      "Predictions:odissi\n",
      "Actual:kuchipudi\n",
      "Predictions:kuchipudi\n",
      "Actual:odissi\n",
      "Predictions:odissi\n",
      "Actual:mohiniyattam\n",
      "Predictions:mohiniyattam\n",
      "Actual:sattriya\n",
      "Predictions:sattriya\n",
      "Actual:kathakali\n",
      "Predictions:kathakali\n",
      "Actual:odissi\n",
      "Predictions:odissi\n",
      "Actual:kathak\n",
      "Predictions:kathak\n",
      "Actual:bharatanatyam\n",
      "Predictions:bharatanatyam\n",
      "Actual:odissi\n",
      "Predictions:odissi\n",
      "Actual:mohiniyattam\n",
      "Predictions:sattriya\n",
      "Actual:kathak\n",
      "Predictions:kathak\n",
      "Actual:odissi\n",
      "Predictions:odissi\n",
      "Actual:bharatanatyam\n",
      "Predictions:bharatanatyam\n",
      "Actual:mohiniyattam\n",
      "Predictions:mohiniyattam\n",
      "Actual:odissi\n",
      "Predictions:odissi\n",
      "Actual:manipuri\n",
      "Predictions:manipuri\n",
      "Actual:mohiniyattam\n",
      "Predictions:mohiniyattam\n",
      "Actual:kathakali\n",
      "Predictions:kathakali\n",
      "Actual:kathakali\n",
      "Predictions:kathakali\n",
      "Actual:odissi\n",
      "Predictions:odissi\n",
      "Actual:kathak\n",
      "Predictions:kathak\n",
      "Actual:kathak\n",
      "Predictions:kathak\n",
      "Actual:bharatanatyam\n",
      "Predictions:bharatanatyam\n",
      "Actual:mohiniyattam\n",
      "Predictions:mohiniyattam\n",
      "Actual:kathak\n",
      "Predictions:kathak\n",
      "Actual:sattriya\n",
      "Predictions:sattriya\n",
      "Actual:bharatanatyam\n",
      "Predictions:bharatanatyam\n",
      "Actual:manipuri\n",
      "Predictions:manipuri\n",
      "Actual:sattriya\n",
      "Predictions:sattriya\n",
      "Actual:odissi\n",
      "Predictions:odissi\n",
      "Actual:sattriya\n",
      "Predictions:sattriya\n",
      "Actual:kathakali\n",
      "Predictions:kathakali\n",
      "Actual:mohiniyattam\n",
      "Predictions:mohiniyattam\n",
      "Actual:kathak\n",
      "Predictions:kathak\n",
      "Actual:kathak\n",
      "Predictions:kathak\n",
      "Actual:kathak\n",
      "Predictions:kathak\n",
      "Actual:kathak\n",
      "Predictions:kathak\n",
      "Actual:mohiniyattam\n",
      "Predictions:mohiniyattam\n",
      "Actual:odissi\n",
      "Predictions:odissi\n",
      "Actual:manipuri\n",
      "Predictions:manipuri\n",
      "Actual:bharatanatyam\n",
      "Predictions:bharatanatyam\n",
      "Actual:sattriya\n",
      "Predictions:kathak\n",
      "Actual:kathakali\n",
      "Predictions:kathakali\n",
      "Actual:kuchipudi\n",
      "Predictions:kuchipudi\n",
      "Actual:manipuri\n",
      "Predictions:manipuri\n",
      "Actual:kuchipudi\n",
      "Predictions:kuchipudi\n",
      "Actual:kuchipudi\n",
      "Predictions:kuchipudi\n",
      "Actual:kuchipudi\n",
      "Predictions:kuchipudi\n",
      "Actual:kuchipudi\n",
      "Predictions:kuchipudi\n",
      "Actual:mohiniyattam\n",
      "Predictions:mohiniyattam\n",
      "Actual:manipuri\n",
      "Predictions:manipuri\n",
      "Actual:kathakali\n",
      "Predictions:kathakali\n",
      "Actual:mohiniyattam\n",
      "Predictions:mohiniyattam\n",
      "Actual:kathakali\n",
      "Predictions:kathakali\n",
      "Actual:sattriya\n",
      "Predictions:sattriya\n",
      "Actual:sattriya\n",
      "Predictions:manipuri\n"
     ]
    }
   ],
   "source": [
    "for i in range(146):\n",
    "    print('Actual:' + categories[y_test[i]] + '\\n' + 'Predictions:' + categories[np.argmax(prediction[i])])"
   ]
  },
  {
   "cell_type": "code",
   "execution_count": 97,
   "metadata": {},
   "outputs": [
    {
     "name": "stdout",
     "output_type": "stream",
     "text": [
      "426 /437\n",
      "97.48283752860412 %\n"
     ]
    }
   ],
   "source": [
    "hi = 0\n",
    "for i in range(437):\n",
    "    if categories[y_test[i]] == categories[np.argmax(prediction[i])]:\n",
    "        hi = hi + 1\n",
    "print(hi,'/' + '437')\n",
    "print(hi*100/437,'%')"
   ]
  },
  {
   "cell_type": "markdown",
   "metadata": {},
   "source": [
    "### IMPORTING RANDOM IMAGES "
   ]
  },
  {
   "cell_type": "code",
   "execution_count": 72,
   "metadata": {},
   "outputs": [],
   "source": [
    "test_data = []"
   ]
  },
  {
   "cell_type": "code",
   "execution_count": 73,
   "metadata": {},
   "outputs": [],
   "source": [
    "img_size = 100\n",
    "qq = 'test'\n",
    "im_dir = 'E:\\EVILDOLL\\PYTHON PROJECTS\\TENSER FLOW\\lol'\n",
    "\n",
    "def making_data():\n",
    "    path = os.path.join(im_dir, qq)\n",
    "    for img_name in os.listdir(path):\n",
    "        image_path = os.path.join(path, img_name)\n",
    "        \n",
    "        image = cv2.imread(image_path)\n",
    "        image = cv2.cvtColor(image, cv2.COLOR_BGR2RGB)\n",
    "        image = cv2.resize(image,(img_size,img_size))\n",
    "        image = np.array(image, dtype=np.float32)\n",
    "        test_data.append(image)\n",
    "            \n",
    "    \n",
    "making_data()"
   ]
  },
  {
   "cell_type": "code",
   "execution_count": 74,
   "metadata": {},
   "outputs": [
    {
     "data": {
      "text/plain": [
       "156"
      ]
     },
     "execution_count": 74,
     "metadata": {},
     "output_type": "execute_result"
    }
   ],
   "source": [
    "len(test_data)"
   ]
  },
  {
   "cell_type": "markdown",
   "metadata": {},
   "source": [
    "### CONVERTING THE IMAGE AND MAKING PREDICTION "
   ]
  },
  {
   "cell_type": "code",
   "execution_count": 77,
   "metadata": {},
   "outputs": [],
   "source": [
    "lets_test = []\n",
    "for img in test_data:\n",
    "        lets_test.append(img)"
   ]
  },
  {
   "cell_type": "code",
   "execution_count": 80,
   "metadata": {},
   "outputs": [],
   "source": [
    "lets_test = np.array(lets_test)\n",
    "lets_test = lets_test/255.0"
   ]
  },
  {
   "cell_type": "code",
   "execution_count": 81,
   "metadata": {},
   "outputs": [],
   "source": [
    "final_pred = model.predict(lets_test)"
   ]
  },
  {
   "cell_type": "code",
   "execution_count": 82,
   "metadata": {},
   "outputs": [],
   "source": [
    "wow = []\n",
    "\n",
    "for i in range(156):\n",
    "    wow.append(categories[np.argmax(final_pred[i])])"
   ]
  },
  {
   "cell_type": "code",
   "execution_count": null,
   "metadata": {},
   "outputs": [],
   "source": []
  },
  {
   "cell_type": "markdown",
   "metadata": {},
   "source": [
    "## Appending to Excel File"
   ]
  },
  {
   "cell_type": "code",
   "execution_count": 83,
   "metadata": {},
   "outputs": [],
   "source": [
    "dirr = 'E:\\EVILDOLL\\PYTHON PROJECTS\\TENSER FLOW\\lol'\n",
    "pathh = os.path.join(dirr, 'test')\n",
    "dit = []\n",
    "for i in os.listdir(pathh):\n",
    "    g = i\n",
    "    h = g[:-4]\n",
    "    dit.append(h)\n",
    "            "
   ]
  },
  {
   "cell_type": "code",
   "execution_count": 85,
   "metadata": {},
   "outputs": [],
   "source": [
    "cc = []\n",
    "for i in range(156):\n",
    "    cc.append([dit[i],wow[i]])\n"
   ]
  },
  {
   "cell_type": "code",
   "execution_count": 86,
   "metadata": {},
   "outputs": [],
   "source": [
    "import openpyxl"
   ]
  },
  {
   "cell_type": "code",
   "execution_count": 87,
   "metadata": {},
   "outputs": [],
   "source": [
    "hg = 'test.xlsx'\n",
    "kkj = 'E:\\EVILDOLL\\PYTHON PROJECTS\\TENSER FLOW\\lol'\n",
    "pathhh = os.path.join(kkj,hg)\n",
    "wb = openpyxl.load_workbook(pathhh)"
   ]
  },
  {
   "cell_type": "code",
   "execution_count": 89,
   "metadata": {},
   "outputs": [],
   "source": [
    "ws = wb.worksheets[0]\n",
    "ws.cell(1,2).value = 'target'\n",
    "\n",
    "for i in range(2,ws.max_row):\n",
    "    for j in range(156):\n",
    "        if ws.cell(i+1,1).value[:-4] == cc[j][0]:\n",
    "            ws.cell(i+1,2).value = cc[j][1]\n",
    "            break\n",
    "wb.save(hg)"
   ]
  },
  {
   "cell_type": "code",
   "execution_count": null,
   "metadata": {},
   "outputs": [],
   "source": []
  },
  {
   "cell_type": "code",
   "execution_count": 48,
   "metadata": {},
   "outputs": [
    {
     "data": {
      "text/plain": [
       "array([3, 5, 0, ..., 5, 1, 7])"
      ]
     },
     "execution_count": 48,
     "metadata": {},
     "output_type": "execute_result"
    }
   ],
   "source": [
    "labels"
   ]
  },
  {
   "cell_type": "code",
   "execution_count": null,
   "metadata": {},
   "outputs": [],
   "source": []
  }
 ],
 "metadata": {
  "kernelspec": {
   "display_name": "Python 3",
   "language": "python",
   "name": "python3"
  },
  "language_info": {
   "codemirror_mode": {
    "name": "ipython",
    "version": 3
   },
   "file_extension": ".py",
   "mimetype": "text/x-python",
   "name": "python",
   "nbconvert_exporter": "python",
   "pygments_lexer": "ipython3",
   "version": "3.7.6"
  }
 },
 "nbformat": 4,
 "nbformat_minor": 4
}
